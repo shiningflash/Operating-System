{
  "nbformat": 4,
  "nbformat_minor": 0,
  "metadata": {
    "colab": {
      "name": "CPU_Scheduling.ipynb",
      "provenance": []
    },
    "kernelspec": {
      "name": "python3",
      "display_name": "Python 3"
    }
  },
  "cells": [
    {
      "cell_type": "code",
      "metadata": {
        "id": "AHFJoDMSf9-E",
        "colab_type": "code",
        "colab": {
          "base_uri": "https://localhost:8080/",
          "height": 119
        },
        "outputId": "c5f16aed-84a8-40c2-cdd9-387cab53cbcf"
      },
      "source": [
        "# FCFS Scheduling\n",
        "\n",
        "class info:\n",
        "  def __init__(self, id, processtime, waitingtime, endtime):\n",
        "    self.id = id\n",
        "    self.processtime = processtime\n",
        "    self.waitingtime = waitingtime\n",
        "    self.endtime = endtime\n",
        "\n",
        "lst = []\n",
        "\n",
        "s = 0\n",
        "sum = 0\n",
        "\n",
        "n = int(input())\n",
        "tym = [int(i) for i in input().split()]\n",
        "\n",
        "for i in range(0, n):\n",
        "  x = tym[i]\n",
        "  sum = sum + s\n",
        "  lst.append( info(i+1, x, s, s + x) )\n",
        "  s = s + x\n",
        "\n",
        "print(\"Id\", \"\\t\", \"PT\", \"\\t\", \"WT\", \"\\t\", \"ET\")\n",
        "print(\"-----------------------------\")\n",
        "for i in lst:\n",
        "  print(i.id, \"\\t\", i.processtime, \"\\t\", i.waitingtime, \"\\t\", i.endtime)\n",
        "\n",
        "print(\"avg = \",sum/n)"
      ],
      "execution_count": null,
      "outputs": [
        {
          "output_type": "stream",
          "text": [
            "1\n",
            "3\n",
            "Id \t PT \t WT \t ET\n",
            "-----------------------------\n",
            "1 \t 3 \t 0 \t 3\n",
            "avg =  0.0\n"
          ],
          "name": "stdout"
        }
      ]
    },
    {
      "cell_type": "code",
      "metadata": {
        "id": "ec_aoR9B6VJp",
        "colab_type": "code",
        "colab": {
          "base_uri": "https://localhost:8080/",
          "height": 130
        },
        "outputId": "e4b14b62-0a55-4832-b68c-3d0806ee3652"
      },
      "source": [
        "# Priority Scheduling\n",
        "\n",
        "from functools import cmp_to_key\n",
        "\n",
        "class info:\n",
        "  def __init__(self, id, processtime, priority, waitingtime, endtime):\n",
        "    self.id = id\n",
        "    self.processtime = processtime\n",
        "    self.priority = priority\n",
        "    self.waitingtime = waitingtime\n",
        "    self.endtime = endtime\n",
        "\n",
        "lst = []\n",
        "\n",
        "s = 0\n",
        "sum = 0\n",
        "\n",
        "n = int(input())\n",
        "\n",
        "for i in range(0, n):\n",
        "  x, y = map(int, input().split())\n",
        "  lst.append( info(i+1, x, y, 0, 0) )\n",
        "\n",
        "lst = sorted(lst, key = lambda info:info.priority)\n",
        "\n",
        "for i in range(0, n):\n",
        "  p = lst[i].processtime\n",
        "\n",
        "  sum = sum + s\n",
        "  lst[i].waitingtime = s\n",
        "  lst[i].endtime = s + p\n",
        "  s = s + p\n",
        "\n",
        "print(\"Id\", \"\\t\", \"PT\", \"\\t\", \"PR\", \"\\t\", \"WT\", \"\\t\", \"ET\")\n",
        "print(\"----------------------------------\")\n",
        "for i in lst\n",
        "  print(i.id, \"\\t\", i.processtime, \"\\t\", i.priority, \"\\t\", i.waitingtime, \"\\t\", i.endtime)\n",
        "print(\"avg = \",sum/n)\n"
      ],
      "execution_count": null,
      "outputs": [
        {
          "output_type": "error",
          "ename": "SyntaxError",
          "evalue": "ignored",
          "traceback": [
            "\u001b[0;36m  File \u001b[0;32m\"<ipython-input-2-6b6f52fd6304>\"\u001b[0;36m, line \u001b[0;32m36\u001b[0m\n\u001b[0;31m    for i in lst\u001b[0m\n\u001b[0m                ^\u001b[0m\n\u001b[0;31mSyntaxError\u001b[0m\u001b[0;31m:\u001b[0m invalid syntax\n"
          ]
        }
      ]
    },
    {
      "cell_type": "code",
      "metadata": {
        "id": "Q2Uwupd8DDE8",
        "colab_type": "code",
        "colab": {}
      },
      "source": [
        "# SJF PREEMPTIVE\n",
        "\n",
        "class info:\n",
        "  def __init__(self, id, at, bt):\n",
        "    self.id = id\n",
        "    self.at = at\n",
        "    self.bt = bt\n",
        "\n",
        "n = int(input())\n",
        "\n",
        "a = []\n",
        "b = []\n",
        "w = []\n",
        "\n",
        "for i in range(0, n):\n",
        "  w.append(0)\n",
        "\n",
        "sum = 0\n",
        "\n",
        "for i in range(0, n):\n",
        "  x, z, y = input().split(maxsplit=2)\n",
        "\n",
        "  a.append( info(x, int(y), int(z) ))\n",
        "  b.append(int(z))\n",
        "  sum = sum + int(z)\n",
        "\n",
        "# SJF SCHEDULING\n",
        "tmp = 0\n",
        "m = 0\n",
        "for i in range(0, sum):\n",
        "  x = -1\n",
        "  z = 0\n",
        "  for j in range(0, n):\n",
        "    if (a[j].at <= i and b[j] != 0):\n",
        "      if (b[j] > x):\n",
        "        x = b[j]\n",
        "        z = j\n",
        "  b[z] = b[z] - 1\n",
        "  print(i,a[z].id)\n",
        "  \n",
        "\n"
      ],
      "execution_count": null,
      "outputs": []
    },
    {
      "cell_type": "code",
      "metadata": {
        "id": "I4II0GCE47wj",
        "colab_type": "code",
        "colab": {
          "base_uri": "https://localhost:8080/",
          "height": 272
        },
        "outputId": "2e995dff-a4d8-4ed1-b257-e703c188034f"
      },
      "source": [
        "# Round Robin Scheduling\n",
        "\n",
        "class info:\n",
        "  def __init__(self, id, processtime):\n",
        "    self.id = id\n",
        "    self.processtime = processtime\n",
        "\n",
        "s = 0\n",
        "sum = 0\n",
        "\n",
        "n, quantam = map(int, input().split())\n",
        "\n",
        "queue = []\n",
        "\n",
        "for i in range(0, n):\n",
        "  x, y = map(int, input().split())\n",
        "  queue.append( info(x, y) )\n",
        "\n",
        "print(\"Id\" + \"\\t\" + \"ST\" + \"\\t\" + \"ET\")\n",
        "\n",
        "while len(queue) != 0:\n",
        "  m = queue.pop(0)\n",
        "  k = min(quantam, m.processtime)\n",
        "  print(m.id, \"\\t\", s, \"\\t\", s + k)\n",
        "  s = s + k\n",
        "  if (m.processtime - k > 0):\n",
        "    queue.append( info(m.id, m.processtime - k) )"
      ],
      "execution_count": null,
      "outputs": [
        {
          "output_type": "stream",
          "text": [
            "5 4\n",
            "0 7\n",
            "4 12\n",
            "8 4\n",
            "6 2\n",
            "6 4\n",
            "Id\tST\tET\n",
            "0 \t 0 \t 4\n",
            "4 \t 4 \t 8\n",
            "8 \t 8 \t 12\n",
            "6 \t 12 \t 14\n",
            "6 \t 14 \t 18\n",
            "0 \t 18 \t 21\n",
            "4 \t 21 \t 25\n",
            "4 \t 25 \t 29\n"
          ],
          "name": "stdout"
        }
      ]
    }
  ]
}